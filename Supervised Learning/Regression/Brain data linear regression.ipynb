{
 "cells": [
  {
   "cell_type": "code",
   "execution_count": 1,
   "id": "bed667aa",
   "metadata": {},
   "outputs": [],
   "source": [
    "#importing libraries\n",
    "import numpy as np\n",
    "import pandas as pd \n",
    "import matplotlib.pyplot as plt\n",
    "%matplotlib inline"
   ]
  },
  {
   "cell_type": "code",
   "execution_count": 4,
   "id": "8b6ebf59",
   "metadata": {},
   "outputs": [
    {
     "name": "stdout",
     "output_type": "stream",
     "text": [
      "(237, 4)\n"
     ]
    },
    {
     "data": {
      "text/html": [
       "<div>\n",
       "<style scoped>\n",
       "    .dataframe tbody tr th:only-of-type {\n",
       "        vertical-align: middle;\n",
       "    }\n",
       "\n",
       "    .dataframe tbody tr th {\n",
       "        vertical-align: top;\n",
       "    }\n",
       "\n",
       "    .dataframe thead th {\n",
       "        text-align: right;\n",
       "    }\n",
       "</style>\n",
       "<table border=\"1\" class=\"dataframe\">\n",
       "  <thead>\n",
       "    <tr style=\"text-align: right;\">\n",
       "      <th></th>\n",
       "      <th>Gender</th>\n",
       "      <th>Age Range</th>\n",
       "      <th>Head Size(cm^3)</th>\n",
       "      <th>Brain Weight(grams)</th>\n",
       "    </tr>\n",
       "  </thead>\n",
       "  <tbody>\n",
       "    <tr>\n",
       "      <th>0</th>\n",
       "      <td>1</td>\n",
       "      <td>1</td>\n",
       "      <td>4512</td>\n",
       "      <td>1530</td>\n",
       "    </tr>\n",
       "    <tr>\n",
       "      <th>1</th>\n",
       "      <td>1</td>\n",
       "      <td>1</td>\n",
       "      <td>3738</td>\n",
       "      <td>1297</td>\n",
       "    </tr>\n",
       "    <tr>\n",
       "      <th>2</th>\n",
       "      <td>1</td>\n",
       "      <td>1</td>\n",
       "      <td>4261</td>\n",
       "      <td>1335</td>\n",
       "    </tr>\n",
       "    <tr>\n",
       "      <th>3</th>\n",
       "      <td>1</td>\n",
       "      <td>1</td>\n",
       "      <td>3777</td>\n",
       "      <td>1282</td>\n",
       "    </tr>\n",
       "    <tr>\n",
       "      <th>4</th>\n",
       "      <td>1</td>\n",
       "      <td>1</td>\n",
       "      <td>4177</td>\n",
       "      <td>1590</td>\n",
       "    </tr>\n",
       "  </tbody>\n",
       "</table>\n",
       "</div>"
      ],
      "text/plain": [
       "   Gender  Age Range  Head Size(cm^3)  Brain Weight(grams)\n",
       "0       1          1             4512                 1530\n",
       "1       1          1             3738                 1297\n",
       "2       1          1             4261                 1335\n",
       "3       1          1             3777                 1282\n",
       "4       1          1             4177                 1590"
      ]
     },
     "execution_count": 4,
     "metadata": {},
     "output_type": "execute_result"
    }
   ],
   "source": [
    "#dataset\n",
    "brain=pd.read_csv(\"Brain.csv\")\n",
    "print(brain.shape)\n",
    "brain.head()"
   ]
  },
  {
   "cell_type": "code",
   "execution_count": 6,
   "id": "03d6526b",
   "metadata": {},
   "outputs": [],
   "source": [
    "#intializing the values\n",
    "X=brain['Head Size(cm^3)'].values\n",
    "Y=brain['Brain Weight(grams)'].values"
   ]
  },
  {
   "cell_type": "code",
   "execution_count": 7,
   "id": "64706e43",
   "metadata": {},
   "outputs": [],
   "source": [
    "#mean values\n",
    "x_mean=np.mean(X)\n",
    "y_mean=np.mean(Y)\n",
    "\n",
    "#total number of values\n",
    "n=len(X)"
   ]
  },
  {
   "cell_type": "code",
   "execution_count": 8,
   "id": "32f65dd8",
   "metadata": {},
   "outputs": [
    {
     "name": "stdout",
     "output_type": "stream",
     "text": [
      "0.26342933948939945 325.57342104944223\n"
     ]
    }
   ],
   "source": [
    "#calculating b1 and b0\n",
    "numer=0\n",
    "denom=0\n",
    "for i in range(n):\n",
    "    numer += (X[i]-x_mean)*(Y[i]-y_mean)\n",
    "    denom += (X[i]-x_mean)**2\n",
    "b1=numer/denom\n",
    "b0=y_mean-(b1*x_mean)\n",
    "print(b1,b0)"
   ]
  },
  {
   "cell_type": "markdown",
   "id": "16eda599",
   "metadata": {},
   "source": [
    "y=mx+c\n",
    "\n",
    "m=0.26342933948939945\n",
    "c=325.57342104944223"
   ]
  },
  {
   "cell_type": "code",
   "execution_count": 9,
   "id": "e0f11ab8",
   "metadata": {},
   "outputs": [
    {
     "data": {
      "image/png": "[encoded data removed]",
      "text/plain": [
       "<Figure size 432x288 with 1 Axes>"
      ]
     },
     "metadata": {
      "needs_background": "light"
     },
     "output_type": "display_data"
    }
   ],
   "source": [
    "#plotting the model\n",
    "x_max=np.max(X) +100\n",
    "x_min=np.min(X) -100\n",
    "\n",
    "#calculating the values of x and y\n",
    "x=np.linspace(x_min,x_max,100)\n",
    "y=b0+b1*x\n",
    "\n",
    "#plotting the line\n",
    "plt.plot(x,y,color='#00ff00', label='Linear Regression')\n",
    "#plot the data point\n",
    "plt.scatter(X, Y, color='#ff0000', label='Data Point')\n",
    "# x-axis label\n",
    "plt.xlabel('Head Size (cm^3)')\n",
    "#y-axis label\n",
    "plt.ylabel('Brain Weight (grams)')\n",
    "plt.legend()\n",
    "plt.show()"
   ]
  },
  {
   "cell_type": "code",
   "execution_count": 11,
   "id": "d12e612c",
   "metadata": {},
   "outputs": [
    {
     "name": "stdout",
     "output_type": "stream",
     "text": [
      "72.1206213783709\n"
     ]
    }
   ],
   "source": [
    "# Root mean squared error and coefficient of Determination (R² Score).\n",
    "\n",
    "#starting with rmse\n",
    "rmse=0\n",
    "for i in range(n):\n",
    "    y_pred= b0+(b1*X[i])\n",
    "    rmse += (Y[i] - y_pred) **2\n",
    "rmse = np.sqrt(rmse/n)\n",
    "print(rmse)"
   ]
  },
  {
   "cell_type": "code",
   "execution_count": 12,
   "id": "f643887d",
   "metadata": {},
   "outputs": [
    {
     "name": "stdout",
     "output_type": "stream",
     "text": [
      "0.6393117199570003\n"
     ]
    }
   ],
   "source": [
    "#finding the r2\n",
    "SSR=0\n",
    "SST=0\n",
    "for i in range(n):\n",
    "    y_pred= b0+(b1*X[i])\n",
    "    SST += (Y[i]-y_mean)**2\n",
    "    SSR += (Y[i]-y_pred)**2\n",
    "score=1-(SSR/SST)\n",
    "print(score)"
   ]
  },
  {
   "cell_type": "markdown",
   "id": "4fb41514",
   "metadata": {},
   "source": [
    "0.63 is certainly not bad, but we can improve the score by :\n",
    "    Getting more datasets\n",
    "    Improving the features\n",
    "    Fit many models etc\n"
   ]
  }
 ],
 "metadata": {
  "kernelspec": {
   "display_name": "Python 3",
   "language": "python",
   "name": "python3"
  },
  "language_info": {
   "codemirror_mode": {
    "name": "ipython",
    "version": 3
   },
   "file_extension": ".py",
   "mimetype": "text/x-python",
   "name": "python",
   "nbconvert_exporter": "python",
   "pygments_lexer": "ipython3",
   "version": "3.8.8"
  }
 },
 "nbformat": 4,
 "nbformat_minor": 5
}
