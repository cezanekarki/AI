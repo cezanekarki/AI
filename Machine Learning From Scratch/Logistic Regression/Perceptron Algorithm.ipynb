{
 "cells": [
  {
   "cell_type": "code",
   "execution_count": 1,
   "id": "a03f6f04",
   "metadata": {},
   "outputs": [],
   "source": [
    "import numpy as np \n",
    "np.set_printoptions(suppress=True)\n",
    "import matplotlib.pyplot as plt\n",
    "import seaborn as sns\n",
    "from sklearn import datasets\n",
    "\n",
    "# import data\n",
    "cancer = datasets.load_breast_cancer()\n",
    "X = cancer['data']\n",
    "y = cancer['target']"
   ]
  },
  {
   "cell_type": "code",
   "execution_count": 13,
   "id": "dfd1635d",
   "metadata": {},
   "outputs": [],
   "source": [
    "def sign(a):\n",
    "    return(-1)**(a<0)\n",
    "def to_binary(y):\n",
    "    return y>0\n",
    "def standard_scaler(X):\n",
    "    mean = X.mean(0)\n",
    "    sd = X.std(0)\n",
    "    return (X-mean)/sd"
   ]
  },
  {
   "cell_type": "code",
   "execution_count": 20,
   "id": "0c642ca5",
   "metadata": {},
   "outputs": [],
   "source": [
    "class Perceptron:\n",
    "    def fit(self,X,y,n_iter=10**3,lr=0.001,standardize=False,add_intercept=True):\n",
    "        if standardize:\n",
    "            X=standard_scaler(X)\n",
    "        if add_intercept:\n",
    "            ones=np.ones(len(X)).reshape(-1,1)\n",
    "        self.X=X\n",
    "        self.y=y\n",
    "        self.D, self.N=self.X.shape\n",
    "        self.n_iter = n_iter\n",
    "        self.lr = lr\n",
    "        self.converged = False\n",
    "        \n",
    "        #fit\n",
    "        beta=np.random.randn(self.D)/5\n",
    "        for i in range(int(self.n_iter)):\n",
    "            yhat=to_binary(sign(np.dot(self.X,beta)))\n",
    "            if np.all(yhat==sign(self.y)):\n",
    "                self.converged=True\n",
    "                self.iterations_until.convergence=i\n",
    "                break\n",
    "            \n",
    "            for n in range(self.N):\n",
    "                \n",
    "                yhat_n = sign(np.dot(beta, self.X[n]))\n",
    "                if (self.y[n]*yhat_n == -1):\n",
    "                    beta += self.lr * self.y[n]*self.X[n]\n",
    "\n",
    "        # Return Values #\n",
    "        self.beta = beta\n",
    "        self.yhat = to_binary(sign(np.dot(self.X, self.beta)))\n",
    "                    \n",
    "                \n",
    "        "
   ]
  },
  {
   "cell_type": "code",
   "execution_count": 21,
   "id": "941bbd38",
   "metadata": {},
   "outputs": [
    {
     "ename": "ValueError",
     "evalue": "shapes (569,30) and (569,) not aligned: 30 (dim 1) != 569 (dim 0)",
     "output_type": "error",
     "traceback": [
      "\u001b[0;31m---------------------------------------------------------------------------\u001b[0m",
      "\u001b[0;31mValueError\u001b[0m                                Traceback (most recent call last)",
      "\u001b[0;32m<ipython-input-21-f60af074dc50>\u001b[0m in \u001b[0;36m<module>\u001b[0;34m\u001b[0m\n\u001b[1;32m      1\u001b[0m \u001b[0mperceptron\u001b[0m \u001b[0;34m=\u001b[0m \u001b[0mPerceptron\u001b[0m\u001b[0;34m(\u001b[0m\u001b[0;34m)\u001b[0m\u001b[0;34m\u001b[0m\u001b[0;34m\u001b[0m\u001b[0m\n\u001b[0;32m----> 2\u001b[0;31m \u001b[0mperceptron\u001b[0m\u001b[0;34m.\u001b[0m\u001b[0mfit\u001b[0m\u001b[0;34m(\u001b[0m\u001b[0mX\u001b[0m\u001b[0;34m,\u001b[0m \u001b[0my\u001b[0m\u001b[0;34m)\u001b[0m\u001b[0;34m\u001b[0m\u001b[0;34m\u001b[0m\u001b[0m\n\u001b[0m",
      "\u001b[0;32m<ipython-input-20-462d24f0f3da>\u001b[0m in \u001b[0;36mfit\u001b[0;34m(self, X, y, n_iter, lr, standardize, add_intercept)\u001b[0m\n\u001b[1;32m     15\u001b[0m         \u001b[0mbeta\u001b[0m\u001b[0;34m=\u001b[0m\u001b[0mnp\u001b[0m\u001b[0;34m.\u001b[0m\u001b[0mrandom\u001b[0m\u001b[0;34m.\u001b[0m\u001b[0mrandn\u001b[0m\u001b[0;34m(\u001b[0m\u001b[0mself\u001b[0m\u001b[0;34m.\u001b[0m\u001b[0mD\u001b[0m\u001b[0;34m)\u001b[0m\u001b[0;34m/\u001b[0m\u001b[0;36m5\u001b[0m\u001b[0;34m\u001b[0m\u001b[0;34m\u001b[0m\u001b[0m\n\u001b[1;32m     16\u001b[0m         \u001b[0;32mfor\u001b[0m \u001b[0mi\u001b[0m \u001b[0;32min\u001b[0m \u001b[0mrange\u001b[0m\u001b[0;34m(\u001b[0m\u001b[0mint\u001b[0m\u001b[0;34m(\u001b[0m\u001b[0mself\u001b[0m\u001b[0;34m.\u001b[0m\u001b[0mn_iter\u001b[0m\u001b[0;34m)\u001b[0m\u001b[0;34m)\u001b[0m\u001b[0;34m:\u001b[0m\u001b[0;34m\u001b[0m\u001b[0;34m\u001b[0m\u001b[0m\n\u001b[0;32m---> 17\u001b[0;31m             \u001b[0myhat\u001b[0m\u001b[0;34m=\u001b[0m\u001b[0mto_binary\u001b[0m\u001b[0;34m(\u001b[0m\u001b[0msign\u001b[0m\u001b[0;34m(\u001b[0m\u001b[0mnp\u001b[0m\u001b[0;34m.\u001b[0m\u001b[0mdot\u001b[0m\u001b[0;34m(\u001b[0m\u001b[0mself\u001b[0m\u001b[0;34m.\u001b[0m\u001b[0mX\u001b[0m\u001b[0;34m,\u001b[0m\u001b[0mbeta\u001b[0m\u001b[0;34m)\u001b[0m\u001b[0;34m)\u001b[0m\u001b[0;34m)\u001b[0m\u001b[0;34m\u001b[0m\u001b[0;34m\u001b[0m\u001b[0m\n\u001b[0m\u001b[1;32m     18\u001b[0m             \u001b[0;32mif\u001b[0m \u001b[0mnp\u001b[0m\u001b[0;34m.\u001b[0m\u001b[0mall\u001b[0m\u001b[0;34m(\u001b[0m\u001b[0myhat\u001b[0m\u001b[0;34m==\u001b[0m\u001b[0msign\u001b[0m\u001b[0;34m(\u001b[0m\u001b[0mself\u001b[0m\u001b[0;34m.\u001b[0m\u001b[0my\u001b[0m\u001b[0;34m)\u001b[0m\u001b[0;34m)\u001b[0m\u001b[0;34m:\u001b[0m\u001b[0;34m\u001b[0m\u001b[0;34m\u001b[0m\u001b[0m\n\u001b[1;32m     19\u001b[0m                 \u001b[0mself\u001b[0m\u001b[0;34m.\u001b[0m\u001b[0mconverged\u001b[0m\u001b[0;34m=\u001b[0m\u001b[0;32mTrue\u001b[0m\u001b[0;34m\u001b[0m\u001b[0;34m\u001b[0m\u001b[0m\n",
      "\u001b[0;32m<__array_function__ internals>\u001b[0m in \u001b[0;36mdot\u001b[0;34m(*args, **kwargs)\u001b[0m\n",
      "\u001b[0;31mValueError\u001b[0m: shapes (569,30) and (569,) not aligned: 30 (dim 1) != 569 (dim 0)"
     ]
    }
   ],
   "source": [
    "perceptron = Perceptron()\n",
    "perceptron.fit(X, y)"
   ]
  },
  {
   "cell_type": "code",
   "execution_count": 24,
   "id": "a52f0865",
   "metadata": {},
   "outputs": [
    {
     "data": {
      "text/plain": [
       "0.9261862917398945"
      ]
     },
     "execution_count": 24,
     "metadata": {},
     "output_type": "execute_result"
    }
   ],
   "source": [
    "#using sklear\n",
    "from sklearn.linear_model import Perceptron\n",
    "model=Perceptron()\n",
    "model.fit(X,y);\n",
    "model.score(X,y)"
   ]
  },
  {
   "cell_type": "code",
   "execution_count": null,
   "id": "91163c54",
   "metadata": {},
   "outputs": [],
   "source": []
  }
 ],
 "metadata": {
  "kernelspec": {
   "display_name": "Python 3",
   "language": "python",
   "name": "python3"
  },
  "language_info": {
   "codemirror_mode": {
    "name": "ipython",
    "version": 3
   },
   "file_extension": ".py",
   "mimetype": "text/x-python",
   "name": "python",
   "nbconvert_exporter": "python",
   "pygments_lexer": "ipython3",
   "version": "3.8.8"
  }
 },
 "nbformat": 4,
 "nbformat_minor": 5
}
