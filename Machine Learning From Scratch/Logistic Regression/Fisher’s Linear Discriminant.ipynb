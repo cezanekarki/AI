{
 "cells": [
  {
   "cell_type": "code",
   "execution_count": 11,
   "id": "06250b18",
   "metadata": {},
   "outputs": [],
   "source": [
    "import numpy as np \n",
    "np.set_printoptions(suppress=True)\n",
    "import matplotlib.pyplot as plt\n",
    "import seaborn as sns\n",
    "from sklearn import datasets\n",
    "\n",
    "# import data\n",
    "cancer = datasets.load_breast_cancer()\n",
    "X = cancer['data']\n",
    "y = cancer['target']"
   ]
  },
  {
   "cell_type": "code",
   "execution_count": 8,
   "id": "91e968db",
   "metadata": {},
   "outputs": [],
   "source": [
    "class FisherLinearDiscriminant:\n",
    "    def fit(self,X,y):\n",
    "        \n",
    "        self.X=X\n",
    "        self.y=y\n",
    "        self.N, self.D=self.X.shape\n",
    "        \n",
    "        #calculate class mean\n",
    "        X0=X[y==0]\n",
    "        X1=X[y==1]\n",
    "        mu0=X0.mean(0)\n",
    "        mu1=X1.mean(0)\n",
    "        \n",
    "        #sigma_w\n",
    "        sigma_w=np.empty((self.D,self.D))\n",
    "        for x0 in X0:\n",
    "            x0_minus_mu0=(x0-mu0).reshape(-1,1)\n",
    "            sigma_w += np.dot(x0_minus_mu0,x0_minus_mu0.T )\n",
    "        for x1 in X1:\n",
    "            x1_minus_mu1=(x1-mu1).reshape(-1,1)\n",
    "            sigma_w += np.dot(x1_minus_mu1,x1_minus_mu1.T )\n",
    "        sigma_w_inverse=np.linalg.inv(sigma_w)\n",
    "        ## Beta\n",
    "        self.beta = np.dot(sigma_w_inverse, mu1 - mu0)\n",
    "        self.f = np.dot(X, self.beta)\n",
    "        \n",
    "        "
   ]
  },
  {
   "cell_type": "code",
   "execution_count": 9,
   "id": "5f6f5fed",
   "metadata": {},
   "outputs": [],
   "source": [
    "model=FisherLinearDiscriminant()\n",
    "model.fit(X,y);"
   ]
  },
  {
   "cell_type": "code",
   "execution_count": 10,
   "id": "96a72e09",
   "metadata": {},
   "outputs": [
    {
     "name": "stderr",
     "output_type": "stream",
     "text": [
      "/home/cezanek/anaconda3/lib/python3.8/site-packages/seaborn/distributions.py:2557: FutureWarning: `distplot` is a deprecated function and will be removed in a future version. Please adapt your code to use either `displot` (a figure-level function with similar flexibility) or `histplot` (an axes-level function for histograms).\n",
      "  warnings.warn(msg, FutureWarning)\n"
     ]
    },
    {
     "data": {
      "image/png": "[encoded data removed]",
      "text/plain": [
       "<Figure size 504x360 with 1 Axes>"
      ]
     },
     "metadata": {
      "needs_background": "light"
     },
     "output_type": "display_data"
    }
   ],
   "source": [
    "fig, ax = plt.subplots(figsize = (7,5))\n",
    "sns.distplot(model.f[model.y == 0], bins = 25, kde = False, \n",
    "             color = 'cornflowerblue', label = 'Class 0')\n",
    "sns.distplot(model.f[model.y == 1], bins = 25, kde = False, \n",
    "             color = 'darkblue', label = 'Class 1')\n",
    "ax.set_xlabel(r\"$f\\hspace{.25}(x_n)$\", size = 14)\n",
    "ax.set_title(r\"Histogram of $f\\hspace{.25}(x_n)$ by Class\", size = 16)\n",
    "ax.legend()\n",
    "sns.despine()"
   ]
  },
  {
   "cell_type": "code",
   "execution_count": 17,
   "id": "177a3ee3",
   "metadata": {},
   "outputs": [
    {
     "name": "stdout",
     "output_type": "stream",
     "text": [
      "Separated: False\n"
     ]
    }
   ],
   "source": [
    "#using sklearn library\n",
    "# import data\n",
    "cancer = datasets.load_breast_cancer()\n",
    "X = cancer['data']\n",
    "y = cancer['target']\n",
    "\n",
    "from sklearn.discriminant_analysis import LinearDiscriminantAnalysis\n",
    "\n",
    "lda=LinearDiscriminantAnalysis(n_components=1)\n",
    "lda.fit(X,y)\n",
    "\n",
    "f0=np.dot(X,lda.coef_[0])[y==0]\n",
    "f1=np.dot(X,lda.coef_[0])[y==1]\n",
    "print('Separated:', (min(f0) > max(f1)) | (max(f0) < min(f1)))\n"
   ]
  },
  {
   "cell_type": "code",
   "execution_count": 18,
   "id": "7f3328a2",
   "metadata": {},
   "outputs": [
    {
     "name": "stderr",
     "output_type": "stream",
     "text": [
      "/home/cezanek/anaconda3/lib/python3.8/site-packages/seaborn/distributions.py:2557: FutureWarning: `distplot` is a deprecated function and will be removed in a future version. Please adapt your code to use either `displot` (a figure-level function with similar flexibility) or `histplot` (an axes-level function for histograms).\n",
      "  warnings.warn(msg, FutureWarning)\n"
     ]
    },
    {
     "data": {
      "image/png": "[encoded data removed]",
      "text/plain": [
       "<Figure size 504x360 with 1 Axes>"
      ]
     },
     "metadata": {
      "needs_background": "light"
     },
     "output_type": "display_data"
    }
   ],
   "source": [
    "fig, ax = plt.subplots(figsize = (7,5))\n",
    "sns.distplot(f0, bins = 25, kde = False, \n",
    "             color = 'cornflowerblue', label = 'Class 0')\n",
    "sns.distplot(f1, bins = 25, kde = False, \n",
    "             color = 'darkblue', label = 'Class 1')\n",
    "ax.set_xlabel(r\"$f\\hspace{.25}(x_n)$\", size = 14)\n",
    "ax.set_title(r\"Histogram of $f\\hspace{.25}(x_n)$ by Class\", size = 16)\n",
    "ax.legend()\n",
    "sns.despine()"
   ]
  },
  {
   "cell_type": "code",
   "execution_count": null,
   "id": "b65514f7",
   "metadata": {},
   "outputs": [],
   "source": []
  }
 ],
 "metadata": {
  "kernelspec": {
   "display_name": "Python 3",
   "language": "python",
   "name": "python3"
  },
  "language_info": {
   "codemirror_mode": {
    "name": "ipython",
    "version": 3
   },
   "file_extension": ".py",
   "mimetype": "text/x-python",
   "name": "python",
   "nbconvert_exporter": "python",
   "pygments_lexer": "ipython3",
   "version": "3.8.8"
  }
 },
 "nbformat": 4,
 "nbformat_minor": 5
}
