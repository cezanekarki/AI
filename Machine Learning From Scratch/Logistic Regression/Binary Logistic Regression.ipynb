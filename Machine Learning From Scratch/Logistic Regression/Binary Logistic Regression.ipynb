{
 "cells": [
  {
   "cell_type": "code",
   "execution_count": 2,
   "id": "a87e37b3",
   "metadata": {},
   "outputs": [],
   "source": [
    "#import dependencies\n",
    "import numpy as np\n",
    "import seaborn as sns\n",
    "from sklearn import datasets\n",
    "import matplotlib.pyplot as plt\n",
    "np.set_printoptions(suppress=True)"
   ]
  },
  {
   "cell_type": "code",
   "execution_count": 4,
   "id": "2efbac71",
   "metadata": {},
   "outputs": [],
   "source": [
    "cancer=datasets.load_breast_cancer()\n",
    "X=cancer['data']\n",
    "y=cancer['target']"
   ]
  },
  {
   "cell_type": "code",
   "execution_count": 15,
   "id": "5adb89df",
   "metadata": {},
   "outputs": [],
   "source": [
    "def logistic(z):\n",
    "    return(1+np.exp(-z))**(-1)\n",
    "def standard_scaler(X):\n",
    "    mean=X.mean(0)\n",
    "    sd=X.std(0)\n",
    "    return (X-mean)/sd"
   ]
  },
  {
   "cell_type": "code",
   "execution_count": 18,
   "id": "c11cabe1",
   "metadata": {},
   "outputs": [],
   "source": [
    "class BinaryLogistic:\n",
    "    def fit(self, X,y,n_iter,lr, standarize=True,has_intercept=False):\n",
    "        if standarize:\n",
    "            X=standard_scaler(X)\n",
    "        if not has_intercept:\n",
    "            ones=np.ones(X.shape[0]).reshape(-1,1)\n",
    "            X=np.concatenate((ones,X),axis=1)\n",
    "        self.X=X\n",
    "        self.y=y\n",
    "        self.N, self.D=X.shape\n",
    "        self.n_iter=n_iter\n",
    "        self.lr=lr\n",
    "        \n",
    "        #calculate beta\n",
    "        beta=np.random.randn(self.D)\n",
    "        for i in range(n_iter):\n",
    "            p=logistic(np.dot(self.X,beta))#vector of probabilities\n",
    "            gradient = -np.dot(self.X.T,(self.y-p)) #gradient\n",
    "            beta -= self.lr*gradient\n",
    "            \n",
    "        #returning values\n",
    "        self.beta=beta\n",
    "        self.p=logistic(np.dot(self.X,self.beta))\n",
    "        self.yhat=self.p.round()"
   ]
  },
  {
   "cell_type": "code",
   "execution_count": 21,
   "id": "63b2bc18",
   "metadata": {},
   "outputs": [
    {
     "name": "stdout",
     "output_type": "stream",
     "text": [
      "In-sample accuracy: 0.9894551845342706\n"
     ]
    }
   ],
   "source": [
    "binary_model=BinaryLogistic()\n",
    "binary_model.fit(X,y,n_iter=10**4,lr=0.0001)\n",
    "print('In-sample accuracy: '  + str(np.mean(binary_model.yhat == binary_model.y)))"
   ]
  },
  {
   "cell_type": "code",
   "execution_count": 23,
   "id": "9d4e04ca",
   "metadata": {
    "scrolled": true
   },
   "outputs": [
    {
     "name": "stderr",
     "output_type": "stream",
     "text": [
      "No handles with labels found to put in legend.\n"
     ]
    },
    {
     "data": {
      "image/png": "[encoded data removed]",
      "text/plain": [
       "<Figure size 432x288 with 1 Axes>"
      ]
     },
     "metadata": {
      "needs_background": "light"
     },
     "output_type": "display_data"
    },
    {
     "data": {
      "image/png": "[encoded data removed]",
      "text/plain": [
       "<Figure size 360x360 with 1 Axes>"
      ]
     },
     "metadata": {
      "needs_background": "light"
     },
     "output_type": "display_data"
    },
    {
     "data": {
      "image/png": "[encoded data removed]",
      "text/plain": [
       "<Figure size 360x360 with 1 Axes>"
      ]
     },
     "metadata": {
      "needs_background": "light"
     },
     "output_type": "display_data"
    }
   ],
   "source": [
    "fig,ax=plt.subplots()\n",
    "sns.displot(binary_model.p[binary_model.yhat == 0], kde = False, bins = 8, label = 'Class 0', color = 'cornflowerblue')\n",
    "sns.displot(binary_model.p[binary_model.yhat == 1], kde = False, bins = 8, label = 'Class 1', color = 'darkblue')\n",
    "ax.legend(loc = 9, bbox_to_anchor = (0,0,1.59,.9))\n",
    "ax.set_xlabel(r'Estimated $P(Y_n = 1)$', size = 14)\n",
    "ax.set_title(r'Estimated $P(Y_n = 1)$ by True Class', size = 16)\n",
    "sns.despine()"
   ]
  },
  {
   "cell_type": "markdown",
   "id": "c43bb3f7",
   "metadata": {},
   "source": [
    "Using sklearn library"
   ]
  },
  {
   "cell_type": "code",
   "execution_count": 26,
   "id": "ff4ac65e",
   "metadata": {},
   "outputs": [],
   "source": [
    "import numpy as np\n",
    "import matplotlib.pyplot as plt\n",
    "import seaborn as sns\n",
    "from sklearn import datasets\n",
    "from sklearn.linear_model import LogisticRegression"
   ]
  },
  {
   "cell_type": "code",
   "execution_count": 27,
   "id": "1b4729bb",
   "metadata": {},
   "outputs": [],
   "source": [
    "cancer=datasets.load_breast_cancer()\n",
    "X=cancer['data']\n",
    "y=cancer['target']"
   ]
  },
  {
   "cell_type": "code",
   "execution_count": 29,
   "id": "3e0bb6e3",
   "metadata": {},
   "outputs": [],
   "source": [
    "binary_model=LogisticRegression(C=100000, max_iter=1e5)\n",
    "binary_model.fit(X,y);"
   ]
  },
  {
   "cell_type": "code",
   "execution_count": 32,
   "id": "39c6563d",
   "metadata": {},
   "outputs": [
    {
     "name": "stdout",
     "output_type": "stream",
     "text": [
      "Training accuracy: 0.9876977152899824\n"
     ]
    }
   ],
   "source": [
    "y_hats=binary_model.predict(X) \n",
    "p_hats=binary_model.predict_proba(X) \n",
    "print(f'Training accuracy: {binary_model.score(X, y)}')\n"
   ]
  },
  {
   "cell_type": "code",
   "execution_count": null,
   "id": "24c162ce",
   "metadata": {},
   "outputs": [],
   "source": []
  }
 ],
 "metadata": {
  "kernelspec": {
   "display_name": "Python 3",
   "language": "python",
   "name": "python3"
  },
  "language_info": {
   "codemirror_mode": {
    "name": "ipython",
    "version": 3
   },
   "file_extension": ".py",
   "mimetype": "text/x-python",
   "name": "python",
   "nbconvert_exporter": "python",
   "pygments_lexer": "ipython3",
   "version": "3.8.8"
  }
 },
 "nbformat": 4,
 "nbformat_minor": 5
}
