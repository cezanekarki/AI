{
 "cells": [
  {
   "cell_type": "code",
   "execution_count": 1,
   "id": "f5b7e8ec",
   "metadata": {},
   "outputs": [],
   "source": [
    "import numpy as np \n",
    "np.set_printoptions(suppress=True)\n",
    "import matplotlib.pyplot as plt\n",
    "import seaborn as sns\n",
    "from sklearn import datasets"
   ]
  },
  {
   "cell_type": "code",
   "execution_count": 2,
   "id": "93c8b9c7",
   "metadata": {},
   "outputs": [],
   "source": [
    "wine = datasets.load_wine()\n",
    "X = wine['data']\n",
    "y = wine['target']"
   ]
  },
  {
   "cell_type": "code",
   "execution_count": 9,
   "id": "649f6a23",
   "metadata": {},
   "outputs": [
    {
     "name": "stdout",
     "output_type": "stream",
     "text": [
      "Softmax for Z:\n",
      " [[0.5  0.5 ]\n",
      " [0.27 0.73]]\n",
      "I matrix of [0,0,1,1,2]:\n",
      " [[1 0 0]\n",
      " [1 0 0]\n",
      " [0 1 0]\n",
      " [0 1 0]\n",
      " [0 0 1]]\n",
      "\n"
     ]
    }
   ],
   "source": [
    "def softmax(z):\n",
    "    return np.exp(z)/(np.exp(z).sum())\n",
    "\n",
    "            \n",
    "def softmax_byrow(Z):\n",
    "    return (np.exp(Z)/np.exp(Z).sum(1)[:,None])\n",
    "\n",
    "def make_I_matrix(y):\n",
    "    I=np.zeros(shape=(len(y),len(np.unique(y))),dtype=int)\n",
    "    for j, target in enumerate(np.unique(y)):\n",
    "        I[:,j]=(y==target)\n",
    "    return I\n",
    "\n",
    "Z_test = np.array([[1, 1],\n",
    "              [0,1]])\n",
    "print('Softmax for Z:\\n', softmax_byrow(Z_test).round(2))\n",
    "\n",
    "y_test = np.array([0,0,1,1,2])\n",
    "print('I matrix of [0,0,1,1,2]:\\n', make_I_matrix(y_test), end = '\\n\\n')            \n",
    "            \n",
    "def standard_scaler(X):\n",
    "    mean = X.mean(0)\n",
    "    sd = X.std(0)\n",
    "    return (X - mean)/sd \n"
   ]
  },
  {
   "cell_type": "code",
   "execution_count": 10,
   "id": "9cfea9e9",
   "metadata": {},
   "outputs": [],
   "source": [
    "class MulticlassLogisticRegression:\n",
    "    \n",
    "    def fit(self, X, y, n_iter, lr, standardize = True, has_intercept = False):\n",
    "        \n",
    "        ### Record Info ###\n",
    "        if standardize:\n",
    "            X = standard_scaler(X) \n",
    "        if not has_intercept:\n",
    "            ones = np.ones(X.shape[0]).reshape(-1, 1)\n",
    "            X = np.concatenate((ones, X), axis = 1)\n",
    "        self.X = X\n",
    "        self.N, self.D = X.shape\n",
    "        self.y = y\n",
    "        self.K = len(np.unique(y))\n",
    "        self.n_iter = n_iter\n",
    "        self.lr = lr\n",
    "        \n",
    "        ### Fit B ###\n",
    "        B = np.random.randn(self.D*self.K).reshape((self.D, self.K))\n",
    "        self.I = make_I_matrix(self.y)\n",
    "        for i in range(n_iter):\n",
    "            Z = np.dot(self.X, B)\n",
    "            P = softmax_byrow(Z)\n",
    "            gradient = np.dot(self.X.T, self.I - P)\n",
    "            B += lr*gradient\n",
    "        \n",
    "        ### Return Values ###\n",
    "        self.B = B\n",
    "        self.Z = np.dot(self.X, B)\n",
    "        self.P = softmax_byrow(self.Z)\n",
    "        self.yhat = self.P.argmax(1)"
   ]
  },
  {
   "cell_type": "code",
   "execution_count": 11,
   "id": "8a2693fd",
   "metadata": {},
   "outputs": [
    {
     "name": "stdout",
     "output_type": "stream",
     "text": [
      "In-sample accuracy: 1.0\n"
     ]
    }
   ],
   "source": [
    "multiclass_model = MulticlassLogisticRegression()\n",
    "multiclass_model.fit(X, y, 10**4, 0.0001)\n",
    "print('In-sample accuracy: '  + str(np.mean(multiclass_model.yhat == y)))"
   ]
  },
  {
   "cell_type": "code",
   "execution_count": 12,
   "id": "5ff7da1e",
   "metadata": {},
   "outputs": [
    {
     "name": "stderr",
     "output_type": "stream",
     "text": [
      "/home/cezanek/anaconda3/lib/python3.8/site-packages/seaborn/distributions.py:2557: FutureWarning: `distplot` is a deprecated function and will be removed in a future version. Please adapt your code to use either `displot` (a figure-level function with similar flexibility) or `histplot` (an axes-level function for histograms).\n",
      "  warnings.warn(msg, FutureWarning)\n"
     ]
    },
    {
     "data": {
      "image/png": "[encoded data removed]",
      "text/plain": [
       "<Figure size 1224x360 with 3 Axes>"
      ]
     },
     "metadata": {
      "needs_background": "light"
     },
     "output_type": "display_data"
    }
   ],
   "source": [
    "fig, ax = plt.subplots(1, 3, figsize = (17, 5))\n",
    "for i, y in enumerate(np.unique(y)):\n",
    "    sns.distplot(multiclass_model.P[multiclass_model.y == y, i],\n",
    "                 hist_kws=dict(edgecolor=\"darkblue\"), \n",
    "                 color = 'cornflowerblue',\n",
    "                 bins = 15, \n",
    "                 kde = False,\n",
    "                 ax = ax[i]);\n",
    "    ax[i].set_xlabel(xlabel = fr'$P(y = {y})$', size = 14)\n",
    "    ax[i].set_title('Histogram for Observations in Class '+ str(y), size = 16)\n",
    "sns.despine()"
   ]
  },
  {
   "cell_type": "code",
   "execution_count": 18,
   "id": "5a03709f",
   "metadata": {},
   "outputs": [],
   "source": [
    "#Using sklearn library\n",
    "wine = datasets.load_wine()\n",
    "X = wine['data']\n",
    "y = wine['target']\n",
    "from sklearn.linear_model import LogisticRegression\n",
    "model=LogisticRegression(multi_class='multinomial',C=10**5,max_iter=10**4)\n",
    "model.fit(X,y);"
   ]
  },
  {
   "cell_type": "code",
   "execution_count": 19,
   "id": "f0cef8a7",
   "metadata": {},
   "outputs": [
    {
     "name": "stdout",
     "output_type": "stream",
     "text": [
      "Training Accuracy= 1.0\n"
     ]
    }
   ],
   "source": [
    "y_hats=model.predict(X)\n",
    "p_hats=model.predict_proba(X)\n",
    "print(f'Training Accuracy= {model.score(X,y)}')"
   ]
  },
  {
   "cell_type": "code",
   "execution_count": null,
   "id": "242808c5",
   "metadata": {},
   "outputs": [],
   "source": []
  }
 ],
 "metadata": {
  "kernelspec": {
   "display_name": "Python 3",
   "language": "python",
   "name": "python3"
  },
  "language_info": {
   "codemirror_mode": {
    "name": "ipython",
    "version": 3
   },
   "file_extension": ".py",
   "mimetype": "text/x-python",
   "name": "python",
   "nbconvert_exporter": "python",
   "pygments_lexer": "ipython3",
   "version": "3.8.8"
  }
 },
 "nbformat": 4,
 "nbformat_minor": 5
}
