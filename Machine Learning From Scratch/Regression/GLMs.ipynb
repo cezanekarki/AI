{
 "cells": [
  {
   "cell_type": "code",
   "execution_count": 1,
   "id": "26bd915b",
   "metadata": {},
   "outputs": [],
   "source": [
    "import numpy as np \n",
    "import matplotlib.pyplot as plt\n",
    "import seaborn as sns\n",
    "from sklearn import datasets\n",
    "boston = datasets.load_boston()\n",
    "X = boston['data']\n",
    "y = boston['target']"
   ]
  },
  {
   "cell_type": "code",
   "execution_count": 2,
   "id": "d7bb9103",
   "metadata": {},
   "outputs": [],
   "source": [
    "def standard_scaler(X):\n",
    "    means=X.mean(0)\n",
    "    std=X.std(0)\n",
    "    return (X-means)/std"
   ]
  },
  {
   "cell_type": "markdown",
   "id": "4e31396c",
   "metadata": {},
   "source": [
    "We saw in the GLM concept page that the gradient of the loss function (the negative log-likelihood) in a Poisson model is given by\n",
    "\n",
    "∂L(β^)∂β^=X⊤(y^−y),\n",
    "where\n",
    "\n",
    "y^=exp(Xβ^).\n",
    "The class below constructs Poisson regression using gradient descent with these results. Again, for simplicity we use a straightforward implementation of gradient descent with a fixed number of iterations and a constant learning rate.\n",
    "\n"
   ]
  },
  {
   "cell_type": "code",
   "execution_count": 17,
   "id": "9e04cd45",
   "metadata": {},
   "outputs": [],
   "source": [
    "class PoissonRegression:\n",
    "    def fit(self,X,y,n_iter=1000, lr=0.0001,add_intercept=True,standardize=True):\n",
    "        \n",
    "        #record stuff\n",
    "        if standardize:\n",
    "            X=standard_scaler(X)\n",
    "        if add_intercept:\n",
    "            ones=np.ones(len(X)).reshape((len(X),1))\n",
    "            X=np.concatenate((ones,X),axis=1)\n",
    "        \n",
    "        self.X=np.array(X)\n",
    "        self.y=np.array(y)\n",
    "        \n",
    "        #fit\n",
    "        beta_hats = np.zeros(X.shape[1])\n",
    "        for i in range(n_iter):\n",
    "            y_hat = np.exp(np.dot(X, beta_hats))\n",
    "            dLdbeta = np.dot(X.T, y_hat - y)\n",
    "            beta_hats -= lr*dLdbeta\n",
    "\n",
    "        # save coefficients and fitted values\n",
    "        self.beta_hats = beta_hats\n",
    "        self.y_hat = y_hat\n",
    "        "
   ]
  },
  {
   "cell_type": "code",
   "execution_count": 18,
   "id": "5e88da33",
   "metadata": {},
   "outputs": [
    {
     "name": "stderr",
     "output_type": "stream",
     "text": [
      "<ipython-input-17-19b954ddacac>:17: RuntimeWarning: overflow encountered in exp\n",
      "  y_hat = np.exp(np.dot(X, beta_hats))\n"
     ]
    }
   ],
   "source": [
    "model=PoissonRegression()\n",
    "model.fit(X,y)"
   ]
  },
  {
   "cell_type": "code",
   "execution_count": 19,
   "id": "85caf6a5",
   "metadata": {},
   "outputs": [
    {
     "name": "stderr",
     "output_type": "stream",
     "text": [
      "/home/cezanek/anaconda3/lib/python3.8/site-packages/seaborn/_decorators.py:36: FutureWarning: Pass the following variables as keyword args: x, y. From version 0.12, the only valid positional argument will be `data`, and passing other arguments without an explicit keyword will result in an error or misinterpretation.\n",
      "  warnings.warn(\n"
     ]
    },
    {
     "data": {
      "image/png": "[encoded data removed]",
      "text/plain": [
       "<Figure size 432x288 with 1 Axes>"
      ]
     },
     "metadata": {
      "needs_background": "light"
     },
     "output_type": "display_data"
    }
   ],
   "source": [
    "fig, ax = plt.subplots()\n",
    "sns.scatterplot(model.y, model.y_hat)\n",
    "ax.set_xlabel(r'$y$', size = 16)\n",
    "ax.set_ylabel(r'$\\hat{y}$', rotation = 0, size = 16, labelpad = 15)\n",
    "ax.set_title(r'$y$ vs. $\\hat{y}$', size = 20, pad = 10)\n",
    "sns.despine()"
   ]
  },
  {
   "cell_type": "code",
   "execution_count": 21,
   "id": "0c323ab8",
   "metadata": {},
   "outputs": [],
   "source": [
    "#using python lib\n",
    "import statsmodels.api as sm\n",
    "X_constant=sm.add_constant(X)\n",
    "poission=sm.GLM(y,X,family=sm.families.Poisson())\n",
    "poission.fit();"
   ]
  },
  {
   "cell_type": "code",
   "execution_count": null,
   "id": "efc8e331",
   "metadata": {},
   "outputs": [],
   "source": []
  }
 ],
 "metadata": {
  "kernelspec": {
   "display_name": "Python 3",
   "language": "python",
   "name": "python3"
  },
  "language_info": {
   "codemirror_mode": {
    "name": "ipython",
    "version": 3
   },
   "file_extension": ".py",
   "mimetype": "text/x-python",
   "name": "python",
   "nbconvert_exporter": "python",
   "pygments_lexer": "ipython3",
   "version": "3.8.8"
  }
 },
 "nbformat": 4,
 "nbformat_minor": 5
}
