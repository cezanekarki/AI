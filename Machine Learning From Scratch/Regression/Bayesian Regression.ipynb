{
 "cells": [
  {
   "cell_type": "code",
   "execution_count": 1,
   "id": "9a77bb9d",
   "metadata": {},
   "outputs": [],
   "source": [
    "#importing dependencies\n",
    "import numpy as np\n",
    "import matplotlib.pyplot as plt\n",
    "import seaborn as sns\n",
    "from sklearn import datasets\n",
    "\n",
    "#importing datasets\n",
    "boston=datasets.load_boston()\n",
    "X=boston['data']\n",
    "y=boston['target']"
   ]
  },
  {
   "cell_type": "markdown",
   "id": "941fd9de",
   "metadata": {},
   "source": [
    "The BayesianRegression class estimates the regression coefficients using\n",
    "\n",
    "(1σ2X⊤X+1τI)−11σ2X⊤y.\n",
    "\n",
    "Note that this assumes σ2 and τ are known. We can determine the influence of the prior distribution by manipulationg τ, though there are principled ways to choose τ. There are also principled Bayesian methods to model σ2 (see here), though for simplicity we will estimate it with the typical OLS estimate:\n",
    "\n",
    "σ^2=SSEN−(D+1),\n",
    "\n",
    "where SSE is the sum of squared errors from an ordinary linear regression, N is the number of observations, and D is the number of predictors. Using the linear regression model from chapter 1, this comes out to about 11.8.\n",
    "\n"
   ]
  },
  {
   "cell_type": "code",
   "execution_count": 11,
   "id": "88331b0c",
   "metadata": {},
   "outputs": [],
   "source": [
    "class BayesianRegression:\n",
    "    def fit(self,X,y,sigma_squared,tau,add_intercept=True):\n",
    "        #record info\n",
    "        if add_intercept:\n",
    "            ones=np.ones(len(X)).reshape((len(X),1))\n",
    "            X=np.concatenate((ones, np.array(X)),axis=1)\n",
    "        self.X=np.array(X)\n",
    "        self.y=np.array(y)\n",
    "        \n",
    "        #fit\n",
    "        XtX=np.dot(X.T,X)/sigma_squared\n",
    "        I=np.eye(X.shape[1])/tau\n",
    "        inverse=np.linalg.inv(XtX+I)\n",
    "        Xty=np.dot(X.T,y)/sigma_squared\n",
    "        self.beta_hats=np.dot(inverse,Xty)\n",
    "        \n",
    "        #fitted values\n",
    "        self.y_hat=np.dot(X,self.beta_hats)"
   ]
  },
  {
   "cell_type": "code",
   "execution_count": 12,
   "id": "51ca50ef",
   "metadata": {},
   "outputs": [],
   "source": [
    "sigma_squared=11.8\n",
    "tau=10\n",
    "model=BayesianRegression()\n",
    "model.fit(X,y,sigma_squared,tau)"
   ]
  },
  {
   "cell_type": "code",
   "execution_count": 13,
   "id": "9a250f6c",
   "metadata": {},
   "outputs": [
    {
     "name": "stderr",
     "output_type": "stream",
     "text": [
      "/home/cezanek/anaconda3/lib/python3.8/site-packages/seaborn/_decorators.py:36: FutureWarning: Pass the following variables as keyword args: x, y. From version 0.12, the only valid positional argument will be `data`, and passing other arguments without an explicit keyword will result in an error or misinterpretation.\n",
      "  warnings.warn(\n",
      "/home/cezanek/anaconda3/lib/python3.8/site-packages/seaborn/_decorators.py:36: FutureWarning: Pass the following variables as keyword args: x, y. From version 0.12, the only valid positional argument will be `data`, and passing other arguments without an explicit keyword will result in an error or misinterpretation.\n",
      "  warnings.warn(\n",
      "/home/cezanek/anaconda3/lib/python3.8/site-packages/seaborn/_decorators.py:36: FutureWarning: Pass the following variables as keyword args: x, y. From version 0.12, the only valid positional argument will be `data`, and passing other arguments without an explicit keyword will result in an error or misinterpretation.\n",
      "  warnings.warn(\n"
     ]
    },
    {
     "data": {
      "image/png": "[encoded data removed]",
      "text/plain": [
       "<Figure size 1440x324 with 3 Axes>"
      ]
     },
     "metadata": {
      "needs_background": "light"
     },
     "output_type": "display_data"
    }
   ],
   "source": [
    "Xs = ['X'+str(i + 1) for i in range(X.shape[1])]\n",
    "taus = [100, 10, 1]\n",
    "\n",
    "fig, ax = plt.subplots(ncols = len(taus), figsize = (20, 4.5), sharey = True)\n",
    "for i, tau in enumerate(taus):\n",
    "    model = BayesianRegression()\n",
    "    model.fit(X, y, sigma_squared, tau) \n",
    "    betas = model.beta_hats[1:]\n",
    "    sns.barplot(Xs, betas, ax = ax[i], palette = 'PuBu')\n",
    "    ax[i].set(xlabel = 'Regressor', title = fr'Regression Coefficients with $\\tau = $ {tau}')\n",
    "    ax[i].set(xticks = np.arange(0, len(Xs), 2), xticklabels = Xs[::2])\n",
    "\n",
    "ax[0].set(ylabel = 'Coefficient')\n",
    "sns.set_context(\"talk\")\n",
    "sns.despine();"
   ]
  },
  {
   "cell_type": "code",
   "execution_count": 15,
   "id": "7f1fd530",
   "metadata": {},
   "outputs": [],
   "source": [
    "#using python lib\n",
    "from sklearn.linear_model import BayesianRidge\n",
    "\n",
    "bayes=BayesianRidge()\n",
    "bayes.fit(X,y);"
   ]
  },
  {
   "cell_type": "code",
   "execution_count": 16,
   "id": "8504bca0",
   "metadata": {},
   "outputs": [],
   "source": [
    "#as previous discussed\n",
    "big_number = 10**5\n",
    "\n",
    "# alpha\n",
    "alpha = 1/11.8\n",
    "alpha_1 = big_number*alpha\n",
    "alpha_2 = big_number\n",
    "\n",
    "# lambda \n",
    "lam = 1/10\n",
    "lambda_1 = big_number*lam\n",
    "lambda_2 = big_number\n",
    "\n",
    "# fit \n",
    "bayes_model = BayesianRidge(alpha_1 = alpha_1, alpha_2 = alpha_2, alpha_init = alpha,\n",
    "                     lambda_1 = lambda_1, lambda_2 = lambda_2, lambda_init = lam)\n",
    "bayes_model.fit(X, y);"
   ]
  },
  {
   "cell_type": "code",
   "execution_count": null,
   "id": "7d9f189c",
   "metadata": {},
   "outputs": [],
   "source": []
  }
 ],
 "metadata": {
  "kernelspec": {
   "display_name": "Python 3",
   "language": "python",
   "name": "python3"
  },
  "language_info": {
   "codemirror_mode": {
    "name": "ipython",
    "version": 3
   },
   "file_extension": ".py",
   "mimetype": "text/x-python",
   "name": "python",
   "nbconvert_exporter": "python",
   "pygments_lexer": "ipython3",
   "version": "3.8.8"
  }
 },
 "nbformat": 4,
 "nbformat_minor": 5
}
